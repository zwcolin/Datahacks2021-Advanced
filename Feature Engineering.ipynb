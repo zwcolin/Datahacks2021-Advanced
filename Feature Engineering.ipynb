{
 "cells": [
  {
   "cell_type": "code",
   "execution_count": 1,
   "id": "religious-lesbian",
   "metadata": {},
   "outputs": [],
   "source": [
    "import pandas as pd\n",
    "import numpy as np\n",
    "import matplotlib.pyplot as plt"
   ]
  },
  {
   "cell_type": "code",
   "execution_count": 2,
   "id": "incoming-jackson",
   "metadata": {},
   "outputs": [],
   "source": [
    "raw = pd.read_csv('datasets/viz_eda.csv')"
   ]
  },
  {
   "cell_type": "code",
   "execution_count": 3,
   "id": "skilled-marijuana",
   "metadata": {},
   "outputs": [
    {
     "data": {
      "text/html": [
       "<div>\n",
       "<style scoped>\n",
       "    .dataframe tbody tr th:only-of-type {\n",
       "        vertical-align: middle;\n",
       "    }\n",
       "\n",
       "    .dataframe tbody tr th {\n",
       "        vertical-align: top;\n",
       "    }\n",
       "\n",
       "    .dataframe thead th {\n",
       "        text-align: right;\n",
       "    }\n",
       "</style>\n",
       "<table border=\"1\" class=\"dataframe\">\n",
       "  <thead>\n",
       "    <tr style=\"text-align: right;\">\n",
       "      <th></th>\n",
       "      <th>date</th>\n",
       "      <th>series_id</th>\n",
       "      <th>value</th>\n",
       "    </tr>\n",
       "  </thead>\n",
       "  <tbody>\n",
       "    <tr>\n",
       "      <th>0</th>\n",
       "      <td>2000-01-03</td>\n",
       "      <td>AAA10Y</td>\n",
       "      <td>-0.925802</td>\n",
       "    </tr>\n",
       "    <tr>\n",
       "      <th>1</th>\n",
       "      <td>2000-01-04</td>\n",
       "      <td>AAA10Y</td>\n",
       "      <td>-0.856570</td>\n",
       "    </tr>\n",
       "    <tr>\n",
       "      <th>2</th>\n",
       "      <td>2000-01-05</td>\n",
       "      <td>AAA10Y</td>\n",
       "      <td>-0.948880</td>\n",
       "    </tr>\n",
       "    <tr>\n",
       "      <th>3</th>\n",
       "      <td>2000-01-06</td>\n",
       "      <td>AAA10Y</td>\n",
       "      <td>-0.971957</td>\n",
       "    </tr>\n",
       "    <tr>\n",
       "      <th>4</th>\n",
       "      <td>2000-01-07</td>\n",
       "      <td>AAA10Y</td>\n",
       "      <td>-0.925802</td>\n",
       "    </tr>\n",
       "  </tbody>\n",
       "</table>\n",
       "</div>"
      ],
      "text/plain": [
       "         date series_id     value\n",
       "0  2000-01-03    AAA10Y -0.925802\n",
       "1  2000-01-04    AAA10Y -0.856570\n",
       "2  2000-01-05    AAA10Y -0.948880\n",
       "3  2000-01-06    AAA10Y -0.971957\n",
       "4  2000-01-07    AAA10Y -0.925802"
      ]
     },
     "execution_count": 3,
     "metadata": {},
     "output_type": "execute_result"
    }
   ],
   "source": [
    "raw.head()"
   ]
  },
  {
   "cell_type": "code",
   "execution_count": 4,
   "id": "accepting-checklist",
   "metadata": {},
   "outputs": [],
   "source": [
    "df = raw.pivot(index = \"date\", columns = \"series_id\", values = \"value\")\n",
    "df = df.fillna(method='ffill')"
   ]
  },
  {
   "cell_type": "markdown",
   "id": "homeless-oxford",
   "metadata": {},
   "source": [
    "## Growth"
   ]
  },
  {
   "cell_type": "code",
   "execution_count": 5,
   "id": "judicial-albuquerque",
   "metadata": {},
   "outputs": [],
   "source": [
    "ls = []\n",
    "for g in raw.groupby(\"series_id\"):\n",
    "    tmp = g[1]\n",
    "    tmp[\"diff\"] = tmp[\"value\"].diff()\n",
    "    tmp = tmp.drop(columns = \"value\")\n",
    "    ls.append(tmp.copy())"
   ]
  },
  {
   "cell_type": "code",
   "execution_count": 6,
   "id": "specified-oakland",
   "metadata": {},
   "outputs": [],
   "source": [
    "diff = pd.concat(ls).dropna().pivot(index = \"date\", columns = \"series_id\", values = \"diff\").drop(columns = \"SP500\")"
   ]
  },
  {
   "cell_type": "code",
   "execution_count": 7,
   "id": "preliminary-throat",
   "metadata": {},
   "outputs": [
    {
     "data": {
      "text/html": [
       "<div>\n",
       "<style scoped>\n",
       "    .dataframe tbody tr th:only-of-type {\n",
       "        vertical-align: middle;\n",
       "    }\n",
       "\n",
       "    .dataframe tbody tr th {\n",
       "        vertical-align: top;\n",
       "    }\n",
       "\n",
       "    .dataframe thead th {\n",
       "        text-align: right;\n",
       "    }\n",
       "</style>\n",
       "<table border=\"1\" class=\"dataframe\">\n",
       "  <thead>\n",
       "    <tr style=\"text-align: right;\">\n",
       "      <th>series_id</th>\n",
       "      <th>AAA10Y</th>\n",
       "      <th>ASEANTOT</th>\n",
       "      <th>BAA10Y</th>\n",
       "      <th>BUSAPPWNSAUS</th>\n",
       "      <th>BUSAPPWNSAUSYY</th>\n",
       "      <th>CBUSAPPWNSAUS</th>\n",
       "      <th>CBUSAPPWNSAUSYY</th>\n",
       "      <th>CUUR0000SA0R</th>\n",
       "      <th>DEXCHUS</th>\n",
       "      <th>DEXUSEU</th>\n",
       "      <th>...</th>\n",
       "      <th>SFTPAGRM158SFRBSF</th>\n",
       "      <th>SOFR</th>\n",
       "      <th>SOFRVOL</th>\n",
       "      <th>T10YIE</th>\n",
       "      <th>TEDRATE</th>\n",
       "      <th>TLAACBW027NBOG</th>\n",
       "      <th>TLBACBW027NBOG</th>\n",
       "      <th>TSIFRGHT</th>\n",
       "      <th>UNRATE</th>\n",
       "      <th>WLEMUINDXD</th>\n",
       "    </tr>\n",
       "    <tr>\n",
       "      <th>date</th>\n",
       "      <th></th>\n",
       "      <th></th>\n",
       "      <th></th>\n",
       "      <th></th>\n",
       "      <th></th>\n",
       "      <th></th>\n",
       "      <th></th>\n",
       "      <th></th>\n",
       "      <th></th>\n",
       "      <th></th>\n",
       "      <th></th>\n",
       "      <th></th>\n",
       "      <th></th>\n",
       "      <th></th>\n",
       "      <th></th>\n",
       "      <th></th>\n",
       "      <th></th>\n",
       "      <th></th>\n",
       "      <th></th>\n",
       "      <th></th>\n",
       "      <th></th>\n",
       "    </tr>\n",
       "  </thead>\n",
       "  <tbody>\n",
       "    <tr>\n",
       "      <th>2000-01-04</th>\n",
       "      <td>0.069232</td>\n",
       "      <td>NaN</td>\n",
       "      <td>0.040387</td>\n",
       "      <td>NaN</td>\n",
       "      <td>NaN</td>\n",
       "      <td>NaN</td>\n",
       "      <td>NaN</td>\n",
       "      <td>NaN</td>\n",
       "      <td>0.000124</td>\n",
       "      <td>0.094377</td>\n",
       "      <td>...</td>\n",
       "      <td>NaN</td>\n",
       "      <td>NaN</td>\n",
       "      <td>NaN</td>\n",
       "      <td>NaN</td>\n",
       "      <td>NaN</td>\n",
       "      <td>NaN</td>\n",
       "      <td>NaN</td>\n",
       "      <td>NaN</td>\n",
       "      <td>NaN</td>\n",
       "      <td>1.942788</td>\n",
       "    </tr>\n",
       "    <tr>\n",
       "      <th>2000-01-05</th>\n",
       "      <td>-0.092309</td>\n",
       "      <td>NaN</td>\n",
       "      <td>-0.067312</td>\n",
       "      <td>NaN</td>\n",
       "      <td>NaN</td>\n",
       "      <td>NaN</td>\n",
       "      <td>NaN</td>\n",
       "      <td>NaN</td>\n",
       "      <td>-0.000124</td>\n",
       "      <td>0.015934</td>\n",
       "      <td>...</td>\n",
       "      <td>NaN</td>\n",
       "      <td>NaN</td>\n",
       "      <td>NaN</td>\n",
       "      <td>NaN</td>\n",
       "      <td>-0.050066</td>\n",
       "      <td>NaN</td>\n",
       "      <td>NaN</td>\n",
       "      <td>NaN</td>\n",
       "      <td>NaN</td>\n",
       "      <td>-2.220513</td>\n",
       "    </tr>\n",
       "    <tr>\n",
       "      <th>2000-01-06</th>\n",
       "      <td>-0.023077</td>\n",
       "      <td>NaN</td>\n",
       "      <td>0.000000</td>\n",
       "      <td>NaN</td>\n",
       "      <td>NaN</td>\n",
       "      <td>NaN</td>\n",
       "      <td>NaN</td>\n",
       "      <td>NaN</td>\n",
       "      <td>-0.000124</td>\n",
       "      <td>-0.006741</td>\n",
       "      <td>...</td>\n",
       "      <td>NaN</td>\n",
       "      <td>NaN</td>\n",
       "      <td>NaN</td>\n",
       "      <td>NaN</td>\n",
       "      <td>0.075099</td>\n",
       "      <td>NaN</td>\n",
       "      <td>NaN</td>\n",
       "      <td>NaN</td>\n",
       "      <td>NaN</td>\n",
       "      <td>-0.025059</td>\n",
       "    </tr>\n",
       "    <tr>\n",
       "      <th>2000-01-07</th>\n",
       "      <td>0.046155</td>\n",
       "      <td>NaN</td>\n",
       "      <td>0.040387</td>\n",
       "      <td>NaN</td>\n",
       "      <td>NaN</td>\n",
       "      <td>NaN</td>\n",
       "      <td>NaN</td>\n",
       "      <td>NaN</td>\n",
       "      <td>-0.000373</td>\n",
       "      <td>-0.018385</td>\n",
       "      <td>...</td>\n",
       "      <td>NaN</td>\n",
       "      <td>NaN</td>\n",
       "      <td>NaN</td>\n",
       "      <td>NaN</td>\n",
       "      <td>0.075099</td>\n",
       "      <td>NaN</td>\n",
       "      <td>NaN</td>\n",
       "      <td>NaN</td>\n",
       "      <td>NaN</td>\n",
       "      <td>0.019732</td>\n",
       "    </tr>\n",
       "    <tr>\n",
       "      <th>2000-01-10</th>\n",
       "      <td>-0.046155</td>\n",
       "      <td>NaN</td>\n",
       "      <td>0.000000</td>\n",
       "      <td>NaN</td>\n",
       "      <td>NaN</td>\n",
       "      <td>NaN</td>\n",
       "      <td>NaN</td>\n",
       "      <td>NaN</td>\n",
       "      <td>0.000000</td>\n",
       "      <td>-0.025739</td>\n",
       "      <td>...</td>\n",
       "      <td>NaN</td>\n",
       "      <td>NaN</td>\n",
       "      <td>NaN</td>\n",
       "      <td>NaN</td>\n",
       "      <td>-0.050066</td>\n",
       "      <td>NaN</td>\n",
       "      <td>NaN</td>\n",
       "      <td>NaN</td>\n",
       "      <td>NaN</td>\n",
       "      <td>-0.081492</td>\n",
       "    </tr>\n",
       "  </tbody>\n",
       "</table>\n",
       "<p>5 rows × 69 columns</p>\n",
       "</div>"
      ],
      "text/plain": [
       "series_id     AAA10Y  ASEANTOT    BAA10Y  BUSAPPWNSAUS  BUSAPPWNSAUSYY  \\\n",
       "date                                                                     \n",
       "2000-01-04  0.069232       NaN  0.040387           NaN             NaN   \n",
       "2000-01-05 -0.092309       NaN -0.067312           NaN             NaN   \n",
       "2000-01-06 -0.023077       NaN  0.000000           NaN             NaN   \n",
       "2000-01-07  0.046155       NaN  0.040387           NaN             NaN   \n",
       "2000-01-10 -0.046155       NaN  0.000000           NaN             NaN   \n",
       "\n",
       "series_id   CBUSAPPWNSAUS  CBUSAPPWNSAUSYY  CUUR0000SA0R   DEXCHUS   DEXUSEU  \\\n",
       "date                                                                           \n",
       "2000-01-04            NaN              NaN           NaN  0.000124  0.094377   \n",
       "2000-01-05            NaN              NaN           NaN -0.000124  0.015934   \n",
       "2000-01-06            NaN              NaN           NaN -0.000124 -0.006741   \n",
       "2000-01-07            NaN              NaN           NaN -0.000373 -0.018385   \n",
       "2000-01-10            NaN              NaN           NaN  0.000000 -0.025739   \n",
       "\n",
       "series_id   ...  SFTPAGRM158SFRBSF  SOFR  SOFRVOL  T10YIE   TEDRATE  \\\n",
       "date        ...                                                       \n",
       "2000-01-04  ...                NaN   NaN      NaN     NaN       NaN   \n",
       "2000-01-05  ...                NaN   NaN      NaN     NaN -0.050066   \n",
       "2000-01-06  ...                NaN   NaN      NaN     NaN  0.075099   \n",
       "2000-01-07  ...                NaN   NaN      NaN     NaN  0.075099   \n",
       "2000-01-10  ...                NaN   NaN      NaN     NaN -0.050066   \n",
       "\n",
       "series_id   TLAACBW027NBOG  TLBACBW027NBOG  TSIFRGHT  UNRATE  WLEMUINDXD  \n",
       "date                                                                      \n",
       "2000-01-04             NaN             NaN       NaN     NaN    1.942788  \n",
       "2000-01-05             NaN             NaN       NaN     NaN   -2.220513  \n",
       "2000-01-06             NaN             NaN       NaN     NaN   -0.025059  \n",
       "2000-01-07             NaN             NaN       NaN     NaN    0.019732  \n",
       "2000-01-10             NaN             NaN       NaN     NaN   -0.081492  \n",
       "\n",
       "[5 rows x 69 columns]"
      ]
     },
     "execution_count": 7,
     "metadata": {},
     "output_type": "execute_result"
    }
   ],
   "source": [
    "diff.head()"
   ]
  },
  {
   "cell_type": "code",
   "execution_count": 8,
   "id": "colonial-heather",
   "metadata": {},
   "outputs": [],
   "source": [
    "diff = diff.fillna(method = \"ffill\")"
   ]
  },
  {
   "cell_type": "markdown",
   "id": "cardiovascular-socket",
   "metadata": {},
   "source": [
    "## Technical Indecator"
   ]
  },
  {
   "cell_type": "code",
   "execution_count": 9,
   "id": "stainless-sandwich",
   "metadata": {},
   "outputs": [],
   "source": [
    "def get_technical(sp500):\n",
    "    tech = sp500.copy()\n",
    "    tech['ma7'] = tech[\"SP500\"].rolling(7).mean()\n",
    "    tech['ma21'] = tech[\"SP500\"].rolling(21).mean()\n",
    "    tech['26ema'] = tech[\"SP500\"].ewm(span=26).mean()\n",
    "    tech['12ema'] = tech[\"SP500\"].ewm(span=12).mean()\n",
    "    tech['MACD'] = (tech['12ema']-tech['26ema'])\n",
    "    tech['20sd'] = tech[\"SP500\"].rolling(20).std()\n",
    "    tech['upper_band'] = tech['ma21'] + (tech['20sd']*2)\n",
    "    tech['lower_band'] = tech['ma21'] - (tech['20sd']*2)\n",
    "    tech['ema'] = tech[\"SP500\"].ewm(com=0.5).mean()\n",
    "    tech['momentum'] = tech[\"SP500\"].diff()\n",
    "    tech = tech.drop(columns = \"SP500\").shift(periods=1)\n",
    "    tech[\"value\"] = sp500[\"SP500\"]\n",
    "    return tech[[\"ma7\",\"ma21\",\"26ema\",\"12ema\",\"MACD\",\"ema\",\"momentum\",\"upper_band\", \"lower_band\"]]"
   ]
  },
  {
   "cell_type": "code",
   "execution_count": 10,
   "id": "external-scholar",
   "metadata": {},
   "outputs": [],
   "source": [
    "train = pd.read_csv(\"datasets/observations_train.csv\")\n",
    "train = train[train[\"series_id\"] == \"SP500\"]"
   ]
  },
  {
   "cell_type": "code",
   "execution_count": 11,
   "id": "initial-target",
   "metadata": {},
   "outputs": [],
   "source": [
    "test = pd.read_csv(\"datasets/observations_test.csv\")\n",
    "test = test[test[\"series_id\"] == \"SP500\"]"
   ]
  },
  {
   "cell_type": "code",
   "execution_count": 12,
   "id": "departmental-vault",
   "metadata": {},
   "outputs": [],
   "source": [
    "merged = pd.concat([train,test])\n",
    "merged = merged.pivot(index = \"date\", columns = \"series_id\", values = \"value\").dropna()"
   ]
  },
  {
   "cell_type": "code",
   "execution_count": 13,
   "id": "parliamentary-browse",
   "metadata": {},
   "outputs": [],
   "source": [
    "merged.index = merged.index.map(lambda x:x[:10])"
   ]
  },
  {
   "cell_type": "code",
   "execution_count": 14,
   "id": "pursuant-building",
   "metadata": {},
   "outputs": [
    {
     "data": {
      "text/html": [
       "<div>\n",
       "<style scoped>\n",
       "    .dataframe tbody tr th:only-of-type {\n",
       "        vertical-align: middle;\n",
       "    }\n",
       "\n",
       "    .dataframe tbody tr th {\n",
       "        vertical-align: top;\n",
       "    }\n",
       "\n",
       "    .dataframe thead th {\n",
       "        text-align: right;\n",
       "    }\n",
       "</style>\n",
       "<table border=\"1\" class=\"dataframe\">\n",
       "  <thead>\n",
       "    <tr style=\"text-align: right;\">\n",
       "      <th>series_id</th>\n",
       "      <th>SP500</th>\n",
       "    </tr>\n",
       "    <tr>\n",
       "      <th>date</th>\n",
       "      <th></th>\n",
       "    </tr>\n",
       "  </thead>\n",
       "  <tbody>\n",
       "    <tr>\n",
       "      <th>2021-02-05</th>\n",
       "      <td>3886.83</td>\n",
       "    </tr>\n",
       "    <tr>\n",
       "      <th>2021-02-08</th>\n",
       "      <td>3915.59</td>\n",
       "    </tr>\n",
       "    <tr>\n",
       "      <th>2021-02-09</th>\n",
       "      <td>3911.23</td>\n",
       "    </tr>\n",
       "    <tr>\n",
       "      <th>2021-02-10</th>\n",
       "      <td>3909.88</td>\n",
       "    </tr>\n",
       "    <tr>\n",
       "      <th>2021-02-11</th>\n",
       "      <td>3916.38</td>\n",
       "    </tr>\n",
       "  </tbody>\n",
       "</table>\n",
       "</div>"
      ],
      "text/plain": [
       "series_id     SP500\n",
       "date               \n",
       "2021-02-05  3886.83\n",
       "2021-02-08  3915.59\n",
       "2021-02-09  3911.23\n",
       "2021-02-10  3909.88\n",
       "2021-02-11  3916.38"
      ]
     },
     "execution_count": 14,
     "metadata": {},
     "output_type": "execute_result"
    }
   ],
   "source": [
    "merged.tail()"
   ]
  },
  {
   "cell_type": "code",
   "execution_count": 15,
   "id": "nearby-transsexual",
   "metadata": {},
   "outputs": [],
   "source": [
    "tech = get_technical(merged)"
   ]
  },
  {
   "cell_type": "code",
   "execution_count": 16,
   "id": "intensive-awareness",
   "metadata": {},
   "outputs": [],
   "source": [
    "tech.to_csv(\"datasets/technical.csv\")"
   ]
  },
  {
   "cell_type": "code",
   "execution_count": 17,
   "id": "present-morocco",
   "metadata": {},
   "outputs": [
    {
     "data": {
      "text/plain": [
       "<AxesSubplot:xlabel='date'>"
      ]
     },
     "execution_count": 17,
     "metadata": {},
     "output_type": "execute_result"
    },
    {
     "data": {
      "image/png": "[encoded data removed]",
      "text/plain": [
       "<Figure size 432x288 with 1 Axes>"
      ]
     },
     "metadata": {
      "needs_background": "light"
     },
     "output_type": "display_data"
    }
   ],
   "source": [
    "tech.plot()"
   ]
  },
  {
   "cell_type": "code",
   "execution_count": 18,
   "id": "agricultural-collectible",
   "metadata": {},
   "outputs": [],
   "source": [
    "tech = (tech - tech.mean()) / tech.std()"
   ]
  },
  {
   "cell_type": "markdown",
   "id": "processed-roman",
   "metadata": {},
   "source": [
    "## Fourier transforms "
   ]
  },
  {
   "cell_type": "code",
   "execution_count": 19,
   "id": "ahead-bruce",
   "metadata": {},
   "outputs": [],
   "source": [
    "import numpy as np\n",
    "import pylab as pl\n",
    "from numpy import fft"
   ]
  },
  {
   "cell_type": "code",
   "execution_count": 20,
   "id": "charitable-smooth",
   "metadata": {},
   "outputs": [],
   "source": [
    "def fourierExtrapolation(x, n_predict, n_harm):\n",
    "    n = x.size            \n",
    "    t = np.arange(0, n)\n",
    "    p = np.polyfit(t, x, 1)         # find linear trend in x\n",
    "    x_notrend = x - p[0] * t        # detrended x\n",
    "    x_freqdom = fft.fft(x_notrend)  # detrended x in frequency domain\n",
    "    f = fft.fftfreq(n)              # frequencies\n",
    "    indexes = list(range(n))\n",
    "    # sort indexes by frequency, lower -> higher\n",
    "    indexes.sort(key = lambda i: np.absolute(f[i]))\n",
    " \n",
    "    t = np.arange(0, n + n_predict)\n",
    "    restored_sig = np.zeros(t.size)\n",
    "    for i in indexes[:1 + n_harm * 2]:\n",
    "        ampli = np.absolute(x_freqdom[i]) / n   # amplitude\n",
    "        phase = np.angle(x_freqdom[i])          # phase\n",
    "        restored_sig += ampli * np.cos(2 * np.pi * f[i] * t + phase)\n",
    "    return restored_sig + p[0] * t"
   ]
  },
  {
   "cell_type": "code",
   "execution_count": 21,
   "id": "russian-tongue",
   "metadata": {},
   "outputs": [
    {
     "data": {
      "text/plain": [
       "2516"
      ]
     },
     "execution_count": 21,
     "metadata": {},
     "output_type": "execute_result"
    }
   ],
   "source": [
    "len(merged)"
   ]
  },
  {
   "cell_type": "code",
   "execution_count": 22,
   "id": "quick-practice",
   "metadata": {},
   "outputs": [],
   "source": [
    "ft = merged.copy()"
   ]
  },
  {
   "cell_type": "code",
   "execution_count": 23,
   "id": "academic-refrigerator",
   "metadata": {},
   "outputs": [],
   "source": [
    "for harm in [3,5,10,100]:\n",
    "    pred = []\n",
    "    for i in range(2,len(merged)):\n",
    "        pred.append(fourierExtrapolation(merged.values[max(0,i - 1000) :i,0],1, harm)[-1])\n",
    "    ft[\"ft\" + str(harm)] = [np.NaN,np.NaN] + pred"
   ]
  },
  {
   "cell_type": "code",
   "execution_count": 24,
   "id": "lyric-worthy",
   "metadata": {},
   "outputs": [
    {
     "data": {
      "text/plain": [
       "<AxesSubplot:xlabel='date'>"
      ]
     },
     "execution_count": 24,
     "metadata": {},
     "output_type": "execute_result"
    },
    {
     "data": {
      "image/png": "[encoded data removed]",
      "text/plain": [
       "<Figure size 432x288 with 1 Axes>"
      ]
     },
     "metadata": {
      "needs_background": "light"
     },
     "output_type": "display_data"
    }
   ],
   "source": [
    "ft.tail(500).plot()"
   ]
  },
  {
   "cell_type": "code",
   "execution_count": 25,
   "id": "actual-coral",
   "metadata": {},
   "outputs": [],
   "source": [
    "ft.to_csv(\"datasets/FT.csv\")"
   ]
  },
  {
   "cell_type": "code",
   "execution_count": 26,
   "id": "violent-computer",
   "metadata": {},
   "outputs": [],
   "source": [
    "ft = (ft - ft.mean())/ ft.std()"
   ]
  },
  {
   "cell_type": "markdown",
   "id": "broadband-exclusion",
   "metadata": {},
   "source": [
    "## Date"
   ]
  },
  {
   "cell_type": "code",
   "execution_count": 27,
   "id": "innocent-store",
   "metadata": {},
   "outputs": [],
   "source": [
    "doy = pd.to_datetime(df.index.values).dayofyear"
   ]
  },
  {
   "cell_type": "code",
   "execution_count": 28,
   "id": "gorgeous-ensemble",
   "metadata": {},
   "outputs": [
    {
     "data": {
      "text/plain": [
       "array(['2000-01-03', '2000-01-04', '2000-01-05', ..., '2021-02-10',\n",
       "       '2021-02-11', '2021-02-12'], dtype=object)"
      ]
     },
     "execution_count": 28,
     "metadata": {},
     "output_type": "execute_result"
    }
   ],
   "source": [
    "df.index.values"
   ]
  },
  {
   "cell_type": "code",
   "execution_count": 29,
   "id": "republican-conservation",
   "metadata": {},
   "outputs": [],
   "source": [
    "df['SIN_DATE'] = np.sin(2*np.pi*doy/365)\n",
    "df['COS_DATE'] = np.cos(2*np.pi*doy/365)"
   ]
  },
  {
   "cell_type": "markdown",
   "id": "decreased-auditor",
   "metadata": {},
   "source": [
    "## Merge Everything"
   ]
  },
  {
   "cell_type": "code",
   "execution_count": 30,
   "id": "interim-treatment",
   "metadata": {},
   "outputs": [],
   "source": [
    "df = df.merge(ft.drop(columns = \"SP500\"), how = \"left\", left_index=True, right_index=True)\n",
    "df = df.merge(tech, how = \"left\", left_index=True, right_index=True)\n",
    "df = df.merge(merged, how = \"left\", left_index=True, right_index=True)\n",
    "df = df.merge(diff, how = \"left\", suffixes = [None, \"_DIFF\"], left_index=True, right_index=True)"
   ]
  },
  {
   "cell_type": "code",
   "execution_count": 31,
   "id": "civil-competition",
   "metadata": {},
   "outputs": [],
   "source": [
    "df = df.rename(columns={\"SP500_y\": \"SP500_UNNORM\", \"SP500_x\":\"SP500_NORM\"})[:-1]"
   ]
  },
  {
   "cell_type": "code",
   "execution_count": 32,
   "id": "separate-vault",
   "metadata": {},
   "outputs": [
    {
     "data": {
      "text/html": [
       "<div>\n",
       "<style scoped>\n",
       "    .dataframe tbody tr th:only-of-type {\n",
       "        vertical-align: middle;\n",
       "    }\n",
       "\n",
       "    .dataframe tbody tr th {\n",
       "        vertical-align: top;\n",
       "    }\n",
       "\n",
       "    .dataframe thead th {\n",
       "        text-align: right;\n",
       "    }\n",
       "</style>\n",
       "<table border=\"1\" class=\"dataframe\">\n",
       "  <thead>\n",
       "    <tr style=\"text-align: right;\">\n",
       "      <th>series_id</th>\n",
       "      <th>AAA10Y</th>\n",
       "      <th>ASEANTOT</th>\n",
       "      <th>BAA10Y</th>\n",
       "      <th>BUSAPPWNSAUS</th>\n",
       "      <th>BUSAPPWNSAUSYY</th>\n",
       "      <th>CBUSAPPWNSAUS</th>\n",
       "      <th>CBUSAPPWNSAUSYY</th>\n",
       "      <th>CUUR0000SA0R</th>\n",
       "      <th>DEXCHUS</th>\n",
       "      <th>DEXUSEU</th>\n",
       "      <th>...</th>\n",
       "      <th>SFTPAGRM158SFRBSF_DIFF</th>\n",
       "      <th>SOFR_DIFF</th>\n",
       "      <th>SOFRVOL_DIFF</th>\n",
       "      <th>T10YIE_DIFF</th>\n",
       "      <th>TEDRATE_DIFF</th>\n",
       "      <th>TLAACBW027NBOG_DIFF</th>\n",
       "      <th>TLBACBW027NBOG_DIFF</th>\n",
       "      <th>TSIFRGHT_DIFF</th>\n",
       "      <th>UNRATE_DIFF</th>\n",
       "      <th>WLEMUINDXD_DIFF</th>\n",
       "    </tr>\n",
       "    <tr>\n",
       "      <th>date</th>\n",
       "      <th></th>\n",
       "      <th></th>\n",
       "      <th></th>\n",
       "      <th></th>\n",
       "      <th></th>\n",
       "      <th></th>\n",
       "      <th></th>\n",
       "      <th></th>\n",
       "      <th></th>\n",
       "      <th></th>\n",
       "      <th></th>\n",
       "      <th></th>\n",
       "      <th></th>\n",
       "      <th></th>\n",
       "      <th></th>\n",
       "      <th></th>\n",
       "      <th></th>\n",
       "      <th></th>\n",
       "      <th></th>\n",
       "      <th></th>\n",
       "      <th></th>\n",
       "    </tr>\n",
       "  </thead>\n",
       "  <tbody>\n",
       "    <tr>\n",
       "      <th>2021-02-05</th>\n",
       "      <td>-0.302713</td>\n",
       "      <td>-0.579975</td>\n",
       "      <td>-0.590471</td>\n",
       "      <td>0.267132</td>\n",
       "      <td>0.918991</td>\n",
       "      <td>-1.326439</td>\n",
       "      <td>0.449925</td>\n",
       "      <td>-1.372066</td>\n",
       "      <td>-0.890475</td>\n",
       "      <td>-0.016433</td>\n",
       "      <td>...</td>\n",
       "      <td>0.02659</td>\n",
       "      <td>-0.030828</td>\n",
       "      <td>-0.401441</td>\n",
       "      <td>0.096898</td>\n",
       "      <td>-0.025033</td>\n",
       "      <td>0.0101</td>\n",
       "      <td>0.009509</td>\n",
       "      <td>0.060515</td>\n",
       "      <td>5.428199</td>\n",
       "      <td>-0.442386</td>\n",
       "    </tr>\n",
       "    <tr>\n",
       "      <th>2021-02-08</th>\n",
       "      <td>-0.348868</td>\n",
       "      <td>-0.579975</td>\n",
       "      <td>-0.644321</td>\n",
       "      <td>0.267132</td>\n",
       "      <td>0.918991</td>\n",
       "      <td>-1.326439</td>\n",
       "      <td>0.449925</td>\n",
       "      <td>-1.372066</td>\n",
       "      <td>-0.890475</td>\n",
       "      <td>-0.016433</td>\n",
       "      <td>...</td>\n",
       "      <td>0.02659</td>\n",
       "      <td>0.000000</td>\n",
       "      <td>-0.093192</td>\n",
       "      <td>0.024225</td>\n",
       "      <td>-0.025033</td>\n",
       "      <td>0.0101</td>\n",
       "      <td>0.009509</td>\n",
       "      <td>0.060515</td>\n",
       "      <td>5.428199</td>\n",
       "      <td>-0.442386</td>\n",
       "    </tr>\n",
       "    <tr>\n",
       "      <th>2021-02-09</th>\n",
       "      <td>-0.348868</td>\n",
       "      <td>-0.579975</td>\n",
       "      <td>-0.630858</td>\n",
       "      <td>0.267132</td>\n",
       "      <td>0.918991</td>\n",
       "      <td>-1.326439</td>\n",
       "      <td>0.449925</td>\n",
       "      <td>-1.372066</td>\n",
       "      <td>-0.890475</td>\n",
       "      <td>-0.016433</td>\n",
       "      <td>...</td>\n",
       "      <td>0.02659</td>\n",
       "      <td>0.030828</td>\n",
       "      <td>-0.136203</td>\n",
       "      <td>0.000000</td>\n",
       "      <td>-0.025033</td>\n",
       "      <td>0.0101</td>\n",
       "      <td>0.009509</td>\n",
       "      <td>0.060515</td>\n",
       "      <td>5.428199</td>\n",
       "      <td>-0.442386</td>\n",
       "    </tr>\n",
       "    <tr>\n",
       "      <th>2021-02-10</th>\n",
       "      <td>-0.325791</td>\n",
       "      <td>-0.579975</td>\n",
       "      <td>-0.617396</td>\n",
       "      <td>0.267132</td>\n",
       "      <td>0.918991</td>\n",
       "      <td>-1.326439</td>\n",
       "      <td>0.449925</td>\n",
       "      <td>-1.372066</td>\n",
       "      <td>-0.890475</td>\n",
       "      <td>-0.016433</td>\n",
       "      <td>...</td>\n",
       "      <td>0.02659</td>\n",
       "      <td>0.010276</td>\n",
       "      <td>-0.121866</td>\n",
       "      <td>-0.024225</td>\n",
       "      <td>-0.025033</td>\n",
       "      <td>0.0101</td>\n",
       "      <td>0.009509</td>\n",
       "      <td>0.060515</td>\n",
       "      <td>5.428199</td>\n",
       "      <td>-0.442386</td>\n",
       "    </tr>\n",
       "    <tr>\n",
       "      <th>2021-02-11</th>\n",
       "      <td>-0.325791</td>\n",
       "      <td>-0.579975</td>\n",
       "      <td>-0.617396</td>\n",
       "      <td>0.267132</td>\n",
       "      <td>0.918991</td>\n",
       "      <td>-1.326439</td>\n",
       "      <td>0.449925</td>\n",
       "      <td>-1.372066</td>\n",
       "      <td>-0.890475</td>\n",
       "      <td>-0.016433</td>\n",
       "      <td>...</td>\n",
       "      <td>0.02659</td>\n",
       "      <td>0.000000</td>\n",
       "      <td>0.050180</td>\n",
       "      <td>-0.024225</td>\n",
       "      <td>-0.025033</td>\n",
       "      <td>0.0101</td>\n",
       "      <td>0.009509</td>\n",
       "      <td>0.060515</td>\n",
       "      <td>5.428199</td>\n",
       "      <td>-0.442386</td>\n",
       "    </tr>\n",
       "  </tbody>\n",
       "</table>\n",
       "<p>5 rows × 155 columns</p>\n",
       "</div>"
      ],
      "text/plain": [
       "series_id     AAA10Y  ASEANTOT    BAA10Y  BUSAPPWNSAUS  BUSAPPWNSAUSYY  \\\n",
       "date                                                                     \n",
       "2021-02-05 -0.302713 -0.579975 -0.590471      0.267132        0.918991   \n",
       "2021-02-08 -0.348868 -0.579975 -0.644321      0.267132        0.918991   \n",
       "2021-02-09 -0.348868 -0.579975 -0.630858      0.267132        0.918991   \n",
       "2021-02-10 -0.325791 -0.579975 -0.617396      0.267132        0.918991   \n",
       "2021-02-11 -0.325791 -0.579975 -0.617396      0.267132        0.918991   \n",
       "\n",
       "series_id   CBUSAPPWNSAUS  CBUSAPPWNSAUSYY  CUUR0000SA0R   DEXCHUS   DEXUSEU  \\\n",
       "date                                                                           \n",
       "2021-02-05      -1.326439         0.449925     -1.372066 -0.890475 -0.016433   \n",
       "2021-02-08      -1.326439         0.449925     -1.372066 -0.890475 -0.016433   \n",
       "2021-02-09      -1.326439         0.449925     -1.372066 -0.890475 -0.016433   \n",
       "2021-02-10      -1.326439         0.449925     -1.372066 -0.890475 -0.016433   \n",
       "2021-02-11      -1.326439         0.449925     -1.372066 -0.890475 -0.016433   \n",
       "\n",
       "series_id   ...  SFTPAGRM158SFRBSF_DIFF  SOFR_DIFF  SOFRVOL_DIFF  T10YIE_DIFF  \\\n",
       "date        ...                                                                 \n",
       "2021-02-05  ...                 0.02659  -0.030828     -0.401441     0.096898   \n",
       "2021-02-08  ...                 0.02659   0.000000     -0.093192     0.024225   \n",
       "2021-02-09  ...                 0.02659   0.030828     -0.136203     0.000000   \n",
       "2021-02-10  ...                 0.02659   0.010276     -0.121866    -0.024225   \n",
       "2021-02-11  ...                 0.02659   0.000000      0.050180    -0.024225   \n",
       "\n",
       "series_id   TEDRATE_DIFF  TLAACBW027NBOG_DIFF  TLBACBW027NBOG_DIFF  \\\n",
       "date                                                                 \n",
       "2021-02-05     -0.025033               0.0101             0.009509   \n",
       "2021-02-08     -0.025033               0.0101             0.009509   \n",
       "2021-02-09     -0.025033               0.0101             0.009509   \n",
       "2021-02-10     -0.025033               0.0101             0.009509   \n",
       "2021-02-11     -0.025033               0.0101             0.009509   \n",
       "\n",
       "series_id   TSIFRGHT_DIFF  UNRATE_DIFF  WLEMUINDXD_DIFF  \n",
       "date                                                     \n",
       "2021-02-05       0.060515     5.428199        -0.442386  \n",
       "2021-02-08       0.060515     5.428199        -0.442386  \n",
       "2021-02-09       0.060515     5.428199        -0.442386  \n",
       "2021-02-10       0.060515     5.428199        -0.442386  \n",
       "2021-02-11       0.060515     5.428199        -0.442386  \n",
       "\n",
       "[5 rows x 155 columns]"
      ]
     },
     "execution_count": 32,
     "metadata": {},
     "output_type": "execute_result"
    }
   ],
   "source": [
    "df.tail()"
   ]
  },
  {
   "cell_type": "code",
   "execution_count": 33,
   "id": "statistical-falls",
   "metadata": {},
   "outputs": [
    {
     "data": {
      "text/plain": [
       "series_id\n",
       "AAA10Y                 0.000000\n",
       "ASEANTOT               0.163169\n",
       "BAA10Y                 0.000000\n",
       "BUSAPPWNSAUS           0.251065\n",
       "BUSAPPWNSAUSYY         0.300458\n",
       "                         ...   \n",
       "TLAACBW027NBOG_DIFF    0.001262\n",
       "TLBACBW027NBOG_DIFF    0.001262\n",
       "TSIFRGHT_DIFF          0.006786\n",
       "UNRATE_DIFF            0.006786\n",
       "WLEMUINDXD_DIFF        0.000316\n",
       "Length: 155, dtype: float64"
      ]
     },
     "execution_count": 33,
     "metadata": {},
     "output_type": "execute_result"
    }
   ],
   "source": [
    "df.isna().mean()"
   ]
  },
  {
   "cell_type": "code",
   "execution_count": 34,
   "id": "eight-kennedy",
   "metadata": {},
   "outputs": [],
   "source": [
    "df.to_csv(\"datasets/all_features.csv\")"
   ]
  },
  {
   "cell_type": "code",
   "execution_count": 35,
   "id": "aging-uncle",
   "metadata": {},
   "outputs": [
    {
     "data": {
      "text/plain": [
       "date\n",
       "2011-02-14    1332.32\n",
       "2011-02-15    1328.01\n",
       "2011-02-16    1336.32\n",
       "2011-02-17    1340.43\n",
       "2011-02-18    1343.01\n",
       "               ...   \n",
       "2021-02-05    3886.83\n",
       "2021-02-08    3915.59\n",
       "2021-02-09    3911.23\n",
       "2021-02-10    3909.88\n",
       "2021-02-11    3916.38\n",
       "Name: SP500_UNNORM, Length: 2516, dtype: float64"
      ]
     },
     "execution_count": 35,
     "metadata": {},
     "output_type": "execute_result"
    }
   ],
   "source": [
    "df[\"SP500_UNNORM\"].dropna()"
   ]
  },
  {
   "cell_type": "code",
   "execution_count": 36,
   "id": "frank-glass",
   "metadata": {},
   "outputs": [
    {
     "data": {
      "text/plain": [
       "series_id\n",
       "SP500    651.490181\n",
       "dtype: float64"
      ]
     },
     "execution_count": 36,
     "metadata": {},
     "output_type": "execute_result"
    }
   ],
   "source": [
    "merged.std()"
   ]
  },
  {
   "cell_type": "code",
   "execution_count": 90,
   "id": "printable-sequence",
   "metadata": {},
   "outputs": [],
   "source": [
    "p = df[[\"ft10\"]].dropna().merge(df[['SP500_NORM']].dropna(), how=\"left\", left_index = True,  right_index = True)"
   ]
  },
  {
   "cell_type": "code",
   "execution_count": 99,
   "id": "incident-guarantee",
   "metadata": {},
   "outputs": [
    {
     "data": {
      "text/plain": [
       "0.02801478453475729"
      ]
     },
     "execution_count": 99,
     "metadata": {},
     "output_type": "execute_result"
    }
   ],
   "source": [
    "np.mean((p.ft10 - p.SP500_NORM)**2)"
   ]
  },
  {
   "cell_type": "code",
   "execution_count": 100,
   "id": "continental-westminster",
   "metadata": {},
   "outputs": [
    {
     "data": {
      "text/plain": [
       "0.0015871052233312382"
      ]
     },
     "execution_count": 100,
     "metadata": {},
     "output_type": "execute_result"
    }
   ],
   "source": [
    "np.mean((p.SP500_NORM.shift(1) - p.SP500_NORM)**2)"
   ]
  },
  {
   "cell_type": "code",
   "execution_count": null,
   "id": "alleged-texas",
   "metadata": {},
   "outputs": [],
   "source": []
  }
 ],
 "metadata": {
  "kernelspec": {
   "display_name": "Python 3",
   "language": "python",
   "name": "python3"
  },
  "language_info": {
   "codemirror_mode": {
    "name": "ipython",
    "version": 3
   },
   "file_extension": ".py",
   "mimetype": "text/x-python",
   "name": "python",
   "nbconvert_exporter": "python",
   "pygments_lexer": "ipython3",
   "version": "3.7.3"
  }
 },
 "nbformat": 4,
 "nbformat_minor": 5
}
