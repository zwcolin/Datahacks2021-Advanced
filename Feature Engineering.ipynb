{
 "cells": [
  {
   "cell_type": "code",
   "execution_count": 1,
   "id": "junior-pennsylvania",
   "metadata": {},
   "outputs": [],
   "source": [
    "import pandas as pd"
   ]
  },
  {
   "cell_type": "code",
   "execution_count": 2,
   "id": "designed-workstation",
   "metadata": {},
   "outputs": [],
   "source": [
    "train = pd.read_csv('datasets/observations_train.csv')\n",
    "test = pd.read_csv('datasets/observations_test.csv')"
   ]
  },
  {
   "cell_type": "code",
   "execution_count": 3,
   "id": "progressive-invasion",
   "metadata": {},
   "outputs": [
    {
     "data": {
      "text/html": [
       "<div>\n",
       "<style scoped>\n",
       "    .dataframe tbody tr th:only-of-type {\n",
       "        vertical-align: middle;\n",
       "    }\n",
       "\n",
       "    .dataframe tbody tr th {\n",
       "        vertical-align: top;\n",
       "    }\n",
       "\n",
       "    .dataframe thead th {\n",
       "        text-align: right;\n",
       "    }\n",
       "</style>\n",
       "<table border=\"1\" class=\"dataframe\">\n",
       "  <thead>\n",
       "    <tr style=\"text-align: right;\">\n",
       "      <th></th>\n",
       "      <th>series_id</th>\n",
       "      <th>date</th>\n",
       "      <th>value</th>\n",
       "    </tr>\n",
       "  </thead>\n",
       "  <tbody>\n",
       "    <tr>\n",
       "      <th>0</th>\n",
       "      <td>AAA10Y</td>\n",
       "      <td>01-03-2000 00:00</td>\n",
       "      <td>1.17</td>\n",
       "    </tr>\n",
       "    <tr>\n",
       "      <th>1</th>\n",
       "      <td>AAA10Y</td>\n",
       "      <td>01-04-2000 00:00</td>\n",
       "      <td>1.20</td>\n",
       "    </tr>\n",
       "    <tr>\n",
       "      <th>2</th>\n",
       "      <td>AAA10Y</td>\n",
       "      <td>01-05-2000 00:00</td>\n",
       "      <td>1.16</td>\n",
       "    </tr>\n",
       "    <tr>\n",
       "      <th>3</th>\n",
       "      <td>AAA10Y</td>\n",
       "      <td>01-06-2000 00:00</td>\n",
       "      <td>1.15</td>\n",
       "    </tr>\n",
       "    <tr>\n",
       "      <th>4</th>\n",
       "      <td>AAA10Y</td>\n",
       "      <td>01-07-2000 00:00</td>\n",
       "      <td>1.17</td>\n",
       "    </tr>\n",
       "  </tbody>\n",
       "</table>\n",
       "</div>"
      ],
      "text/plain": [
       "  series_id              date  value\n",
       "0    AAA10Y  01-03-2000 00:00   1.17\n",
       "1    AAA10Y  01-04-2000 00:00   1.20\n",
       "2    AAA10Y  01-05-2000 00:00   1.16\n",
       "3    AAA10Y  01-06-2000 00:00   1.15\n",
       "4    AAA10Y  01-07-2000 00:00   1.17"
      ]
     },
     "execution_count": 3,
     "metadata": {},
     "output_type": "execute_result"
    }
   ],
   "source": [
    "train.head()"
   ]
  },
  {
   "cell_type": "code",
   "execution_count": 4,
   "id": "sound-recall",
   "metadata": {},
   "outputs": [],
   "source": [
    "sp_train = train[train[\"series_id\"] == \"SP500\"].drop(columns = \"series_id\").set_index(\"date\")"
   ]
  },
  {
   "cell_type": "code",
   "execution_count": 5,
   "id": "streaming-namibia",
   "metadata": {},
   "outputs": [
    {
     "data": {
      "text/plain": [
       "<AxesSubplot:xlabel='date'>"
      ]
     },
     "execution_count": 5,
     "metadata": {},
     "output_type": "execute_result"
    },
    {
     "data": {
      "image/png": "[encoded data removed]",
      "text/plain": [
       "<Figure size 432x288 with 1 Axes>"
      ]
     },
     "metadata": {
      "needs_background": "light"
     },
     "output_type": "display_data"
    }
   ],
   "source": [
    "sp_train.plot()"
   ]
  },
  {
   "cell_type": "code",
   "execution_count": 6,
   "id": "committed-prevention",
   "metadata": {},
   "outputs": [],
   "source": [
    "sp_train = sp_train.interpolate()"
   ]
  },
  {
   "cell_type": "code",
   "execution_count": 7,
   "id": "conceptual-mineral",
   "metadata": {
    "scrolled": true
   },
   "outputs": [
    {
     "data": {
      "text/html": [
       "<div>\n",
       "<style scoped>\n",
       "    .dataframe tbody tr th:only-of-type {\n",
       "        vertical-align: middle;\n",
       "    }\n",
       "\n",
       "    .dataframe tbody tr th {\n",
       "        vertical-align: top;\n",
       "    }\n",
       "\n",
       "    .dataframe thead th {\n",
       "        text-align: right;\n",
       "    }\n",
       "</style>\n",
       "<table border=\"1\" class=\"dataframe\">\n",
       "  <thead>\n",
       "    <tr style=\"text-align: right;\">\n",
       "      <th></th>\n",
       "      <th>value</th>\n",
       "    </tr>\n",
       "    <tr>\n",
       "      <th>date</th>\n",
       "      <th></th>\n",
       "    </tr>\n",
       "  </thead>\n",
       "  <tbody>\n",
       "    <tr>\n",
       "      <th>02-14-2011 00:00:00</th>\n",
       "      <td>1332.32</td>\n",
       "    </tr>\n",
       "    <tr>\n",
       "      <th>02-15-2011 00:00:00</th>\n",
       "      <td>1328.01</td>\n",
       "    </tr>\n",
       "    <tr>\n",
       "      <th>02-16-2011 00:00:00</th>\n",
       "      <td>1336.32</td>\n",
       "    </tr>\n",
       "    <tr>\n",
       "      <th>02-17-2011 00:00:00</th>\n",
       "      <td>1340.43</td>\n",
       "    </tr>\n",
       "    <tr>\n",
       "      <th>02-18-2011 00:00:00</th>\n",
       "      <td>1343.01</td>\n",
       "    </tr>\n",
       "  </tbody>\n",
       "</table>\n",
       "</div>"
      ],
      "text/plain": [
       "                       value\n",
       "date                        \n",
       "02-14-2011 00:00:00  1332.32\n",
       "02-15-2011 00:00:00  1328.01\n",
       "02-16-2011 00:00:00  1336.32\n",
       "02-17-2011 00:00:00  1340.43\n",
       "02-18-2011 00:00:00  1343.01"
      ]
     },
     "execution_count": 7,
     "metadata": {},
     "output_type": "execute_result"
    }
   ],
   "source": [
    "sp_train.head()"
   ]
  },
  {
   "cell_type": "code",
   "execution_count": 44,
   "id": "possible-pollution",
   "metadata": {},
   "outputs": [],
   "source": [
    "def get_technical(sp500):\n",
    "    tech = sp500.copy()\n",
    "    tech['ma7'] = tech['value'].rolling(7).mean()\n",
    "    tech['ma21'] = tech['value'].rolling(21).mean()\n",
    "    tech['26ema'] = tech['value'].ewm(span=26).mean()\n",
    "    tech['12ema'] = tech['value'].ewm(span=12).mean()\n",
    "    tech['MACD'] = (tech['12ema']-tech['26ema'])\n",
    "    tech['20sd'] = tech['value'].rolling(20).std()\n",
    "    tech['upper_band'] = tech['ma21'] + (tech['20sd']*2)\n",
    "    tech['lower_band'] = tech['ma21'] - (tech['20sd']*2)\n",
    "    tech['ema'] = tech['value'].ewm(com=0.5).mean()\n",
    "    tech['momentum'] = tech[\"value\"].diff()\n",
    "    tech = tech.drop(columns = \"value\").shift(periods=1)\n",
    "    tech[\"value\"] = sp500[\"value\"]\n",
    "    return tech[[\"value\",\"ma7\",\"ma21\",\"26ema\",\"12ema\",\"MACD\",\"ema\",\"momentum\"]]"
   ]
  },
  {
   "cell_type": "code",
   "execution_count": 51,
   "id": "comic-platinum",
   "metadata": {},
   "outputs": [],
   "source": [
    "tech = get_techincal(sp_train)"
   ]
  },
  {
   "cell_type": "code",
   "execution_count": 53,
   "id": "developing-thanksgiving",
   "metadata": {},
   "outputs": [],
   "source": [
    "tech.to_csv(\"datasets/technical_train.csv\")"
   ]
  },
  {
   "cell_type": "code",
   "execution_count": null,
   "id": "veterinary-strike",
   "metadata": {},
   "outputs": [],
   "source": [
    "def get_technical_indicators(dataset):\n",
    "    # Create 7 and 21 days Moving Average\n",
    "    dataset['ma7'] = dataset['price'].rolling(window=7).mean()\n",
    "    dataset['ma21'] = dataset['price'].rolling(window=21).mean()\n",
    "    \n",
    "    # Create MACD\n",
    "    dataset['26ema'] = pd.ewma(dataset['price'], span=26)\n",
    "    dataset['12ema'] = pd.ewma(dataset['price'], span=12)\n",
    "    dataset['MACD'] = (dataset['12ema']-dataset['26ema'])\n",
    "    \n",
    "    # Create Bollinger Bands\n",
    "    dataset['20sd'] = pd.stats.moments.rolling_std(dataset['price'],20)\n",
    "    dataset['upper_band'] = dataset['ma21'] + (dataset['20sd']*2)\n",
    "    dataset['lower_band'] = dataset['ma21'] - (dataset['20sd']*2)\n",
    "    \n",
    "    # Create Exponential moving average\n",
    "    dataset['ema'] = dataset['price'].ewm(com=0.5).mean()\n",
    "    \n",
    "    # Create Momentum\n",
    "    dataset['momentum'] = dataset['price']-1\n",
    "    \n",
    "    return dataset"
   ]
  },
  {
   "cell_type": "code",
   "execution_count": null,
   "id": "alike-ecuador",
   "metadata": {},
   "outputs": [],
   "source": [
    "techincal.save()"
   ]
  },
  {
   "cell_type": "code",
   "execution_count": null,
   "id": "english-thriller",
   "metadata": {},
   "outputs": [],
   "source": [
    "def get_technical_indicators(dataset):\n",
    "    # Create 7 and 21 days Moving Average\n",
    "    dataset['ma7'] = dataset['value'].rolling(window=7).mean()\n",
    "    dataset['ma21'] = dataset['value'].rolling(window=21).mean()\n",
    "    \n",
    "    # Create MACD\n",
    "    dataset['26ema'] = pd.ewma(dataset['value'], span=26)\n",
    "    dataset['12ema'] = pd.ewma(dataset['value'], span=12)\n",
    "    dataset['MACD'] = (dataset['12ema']-dataset['26ema'])\n",
    "# Create Bollinger Bands\n",
    "    dataset['20sd'] = pd.stats.moments.rolling_std(dataset['price'],20)\n",
    "    dataset['upper_band'] = dataset['ma21'] + (dataset['20sd']*2)\n",
    "    dataset['lower_band'] = dataset['ma21'] - (dataset['20sd']*2)\n",
    "    \n",
    "    # Create Exponential moving average\n",
    "    dataset['ema'] = dataset['price'].ewm(com=0.5).mean()\n",
    "    \n",
    "    # Create Momentum\n",
    "    dataset['momentum'] = dataset['price']-1\n",
    "    \n",
    "    return dataset"
   ]
  },
  {
   "cell_type": "code",
   "execution_count": null,
   "id": "voluntary-passport",
   "metadata": {},
   "outputs": [],
   "source": []
  },
  {
   "cell_type": "code",
   "execution_count": null,
   "id": "plastic-contamination",
   "metadata": {},
   "outputs": [],
   "source": []
  }
 ],
 "metadata": {
  "kernelspec": {
   "display_name": "Python 3",
   "language": "python",
   "name": "python3"
  },
  "language_info": {
   "codemirror_mode": {
    "name": "ipython",
    "version": 3
   },
   "file_extension": ".py",
   "mimetype": "text/x-python",
   "name": "python",
   "nbconvert_exporter": "python",
   "pygments_lexer": "ipython3",
   "version": "3.7.3"
  }
 },
 "nbformat": 4,
 "nbformat_minor": 5
}
