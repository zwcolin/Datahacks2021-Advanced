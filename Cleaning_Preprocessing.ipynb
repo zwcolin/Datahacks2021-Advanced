{
 "cells": [
  {
   "cell_type": "code",
   "execution_count": 1,
   "id": "median-hayes",
   "metadata": {},
   "outputs": [],
   "source": [
    "import numpy as np\n",
    "import pandas as pd\n",
    "import matplotlib.pyplot as plt"
   ]
  },
  {
   "cell_type": "code",
   "execution_count": 2,
   "id": "extensive-emergency",
   "metadata": {},
   "outputs": [],
   "source": [
    "series = pd.read_csv('datasets/series.csv', encoding= 'unicode_escape')\n",
    "train = pd.read_csv('datasets/observations_train.csv')\n",
    "test = pd.read_csv('datasets/observations_test.csv')"
   ]
  },
  {
   "cell_type": "code",
   "execution_count": 3,
   "id": "accessible-special",
   "metadata": {},
   "outputs": [],
   "source": [
    "# correct datatype\n",
    "train.date = pd.to_datetime(train.date)\n",
    "test.date = pd.to_datetime(test.date)"
   ]
  },
  {
   "cell_type": "code",
   "execution_count": 5,
   "id": "forty-petroleum",
   "metadata": {},
   "outputs": [],
   "source": [
    "# include sp500 which has 'Daily, Close'\n",
    "daily_id = series[(series.frequency == 'Daily') | (series.frequency == 'Daily, 7-Day') |\\\n",
    "                  (series.frequency == 'Daily, Close')]['ï»¿series_id']\n",
    "weekly_id = series[(series.frequency == 'Weekly, Ending Saturday') | (series.frequency == 'Weekly, Ending Thursday') |\\\n",
    "                   (series.frequency == 'Weekly, Ending Wednesday')]['ï»¿series_id']\n",
    "monthly_id = series[(series.frequency == 'Monthly')]['ï»¿series_id']"
   ]
  },
  {
   "cell_type": "code",
   "execution_count": 6,
   "id": "cellular-shore",
   "metadata": {},
   "outputs": [],
   "source": [
    "# separate data and exclude weekends\n",
    "train_daily = train[train['series_id'].isin(daily_id)]\n",
    "train_weekly = train[train['series_id'].isin(weekly_id)]\n",
    "train_monthly = train[train['series_id'].isin(monthly_id)]\n",
    "train_daily = train_daily[train_daily['date'].dt.dayofweek < 5]\n",
    "\n",
    "test_daily = test[test['series_id'].isin(daily_id)]\n",
    "test_weekly = test[test['series_id'].isin(weekly_id)]\n",
    "test_monthly = test[test['series_id'].isin(monthly_id)]\n",
    "test_daily = test_daily[test_daily['date'].dt.dayofweek < 5]"
   ]
  },
  {
   "cell_type": "code",
   "execution_count": 7,
   "id": "alternative-vision",
   "metadata": {},
   "outputs": [],
   "source": [
    "# set index for date\n",
    "for df in [train_daily, train_weekly, train_monthly, test_daily, test_weekly, test_monthly]:\n",
    "    df.set_index('date', inplace=True)"
   ]
  },
  {
   "cell_type": "code",
   "execution_count": 8,
   "id": "taken-samba",
   "metadata": {},
   "outputs": [],
   "source": [
    "# a total of 1 na in train ser after interpolation\n",
    "train_daily = train_daily.groupby('series_id').apply(lambda group: group.interpolate('time')).dropna()\n",
    "train_weekly = train_weekly.groupby('series_id').apply(lambda group: group.interpolate('time'))\n",
    "train_monthly = train_monthly.groupby('series_id').apply(lambda group: group.interpolate('time'))\n",
    "\n",
    "# a total of 0 na in train ser after interpolation\n",
    "test_daily = test_daily.groupby('series_id').apply(lambda group: group.interpolate('time'))\n",
    "test_weekly = test_weekly.groupby('series_id').apply(lambda group: group.interpolate('time'))\n",
    "test_monthly = test_monthly.groupby('series_id').apply(lambda group: group.interpolate('time'))"
   ]
  },
  {
   "cell_type": "code",
   "execution_count": 9,
   "id": "hawaiian-evans",
   "metadata": {},
   "outputs": [],
   "source": [
    "# return normalized dataset and stats to unnormalize\n",
    "def in_group_norm(df):\n",
    "    stats = pd.DataFrame()\n",
    "    stats['series_id'] = df.series_id.unique().tolist()\n",
    "    stats['mean'] = df.groupby('series_id').mean().value.tolist()\n",
    "    stats['std'] = df.groupby('series_id').std().value.tolist()\n",
    "    df.value = df.groupby('series_id').transform(lambda x: (x - x.mean()) / x.std()).value\n",
    "    return df, stats"
   ]
  },
  {
   "cell_type": "code",
   "execution_count": 10,
   "id": "accredited-campus",
   "metadata": {},
   "outputs": [],
   "source": [
    "# normalize the data\n",
    "train_daily, train_daily_stats = in_group_norm(train_daily)\n",
    "train_weekly, train_weekly_stats = in_group_norm(train_weekly)\n",
    "train_monthly, train_monthly_stats = in_group_norm(train_monthly)\n",
    "\n",
    "test_daily, test_daily_stats = in_group_norm(test_daily)\n",
    "test_weekly, test_weekly_stats = in_group_norm(test_weekly)\n",
    "test_monthly, test_monthly_stats = in_group_norm(test_monthly)"
   ]
  },
  {
   "cell_type": "code",
   "execution_count": 13,
   "id": "developmental-medicine",
   "metadata": {},
   "outputs": [],
   "source": [
    "# concat back to train and test set\n",
    "train_cleaned = pd.concat([train_daily, train_weekly, train_monthly])\n",
    "test_cleaned = pd.concat([test_daily, test_weekly, test_monthly])\n",
    "\n",
    "train_cleaned.to_csv('datasets/train_cleaned.csv')\n",
    "test_cleaned.to_csv('datasets/test_cleaned.csv')"
   ]
  }
 ],
 "metadata": {
  "kernelspec": {
   "display_name": "Python 3",
   "language": "python",
   "name": "python3"
  },
  "language_info": {
   "codemirror_mode": {
    "name": "ipython",
    "version": 3
   },
   "file_extension": ".py",
   "mimetype": "text/x-python",
   "name": "python",
   "nbconvert_exporter": "python",
   "pygments_lexer": "ipython3",
   "version": "3.8.5"
  }
 },
 "nbformat": 4,
 "nbformat_minor": 5
}
