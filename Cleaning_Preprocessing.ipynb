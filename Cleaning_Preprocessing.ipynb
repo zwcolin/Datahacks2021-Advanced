{
 "cells": [
  {
   "cell_type": "code",
   "execution_count": 1,
   "id": "median-hayes",
   "metadata": {},
   "outputs": [],
   "source": [
    "import numpy as np\n",
    "import pandas as pd\n",
    "import matplotlib.pyplot as plt\n",
    "import seaborn as sns"
   ]
  },
  {
   "cell_type": "code",
   "execution_count": 2,
   "id": "extensive-emergency",
   "metadata": {},
   "outputs": [],
   "source": [
    "series = pd.read_csv('datasets/series.csv', encoding= 'unicode_escape')\n",
    "train = pd.read_csv('datasets/observations_train.csv')\n",
    "test = pd.read_csv('datasets/observations_test.csv')"
   ]
  },
  {
   "cell_type": "code",
   "execution_count": 3,
   "id": "accessible-special",
   "metadata": {},
   "outputs": [],
   "source": [
    "# correct datatype\n",
    "train.date = pd.to_datetime(train.date)\n",
    "test.date = pd.to_datetime(test.date)"
   ]
  },
  {
   "cell_type": "code",
   "execution_count": 4,
   "id": "forty-petroleum",
   "metadata": {},
   "outputs": [],
   "source": [
    "# include sp500 which has 'Daily, Close'\n",
    "daily_id = series[(series.frequency == 'Daily') | (series.frequency == 'Daily, 7-Day') |\\\n",
    "                  (series.frequency == 'Daily, Close')]['ï»¿series_id']\n",
    "weekly_id = series[(series.frequency == 'Weekly, Ending Saturday') | (series.frequency == 'Weekly, Ending Thursday') |\\\n",
    "                   (series.frequency == 'Weekly, Ending Wednesday')]['ï»¿series_id']\n",
    "monthly_id = series[(series.frequency == 'Monthly')]['ï»¿series_id']"
   ]
  },
  {
   "cell_type": "code",
   "execution_count": 5,
   "id": "cellular-shore",
   "metadata": {},
   "outputs": [],
   "source": [
    "# separate data and exclude weekends\n",
    "train_daily = train[train['series_id'].isin(daily_id)]\n",
    "train_weekly = train[train['series_id'].isin(weekly_id)]\n",
    "train_monthly = train[train['series_id'].isin(monthly_id)]\n",
    "train_daily = train_daily[train_daily['date'].dt.dayofweek < 5]\n",
    "\n",
    "test_daily = test[test['series_id'].isin(daily_id)]\n",
    "test_weekly = test[test['series_id'].isin(weekly_id)]\n",
    "test_monthly = test[test['series_id'].isin(monthly_id)]\n",
    "test_daily = test_daily[test_daily['date'].dt.dayofweek < 5]"
   ]
  },
  {
   "cell_type": "code",
   "execution_count": 6,
   "id": "alternative-vision",
   "metadata": {},
   "outputs": [],
   "source": [
    "# set index for date\n",
    "for df in [train_daily, train_weekly, train_monthly, test_daily, test_weekly, test_monthly]:\n",
    "    df.set_index('date', inplace=True)"
   ]
  },
  {
   "cell_type": "code",
   "execution_count": 7,
   "id": "taken-samba",
   "metadata": {},
   "outputs": [],
   "source": [
    "# a total of 1 na in train ser after interpolation\n",
    "train_daily = train_daily.groupby('series_id').apply(lambda group: group.interpolate('time')).dropna()\n",
    "train_weekly = train_weekly.groupby('series_id').apply(lambda group: group.interpolate('time'))\n",
    "train_monthly = train_monthly.groupby('series_id').apply(lambda group: group.interpolate('time'))\n",
    "\n",
    "# a total of 0 na in train ser after interpolation\n",
    "test_daily = test_daily.groupby('series_id').apply(lambda group: group.interpolate('time'))\n",
    "test_weekly = test_weekly.groupby('series_id').apply(lambda group: group.interpolate('time'))\n",
    "test_monthly = test_monthly.groupby('series_id').apply(lambda group: group.interpolate('time'))"
   ]
  },
  {
   "cell_type": "code",
   "execution_count": 8,
   "id": "informational-portable",
   "metadata": {},
   "outputs": [],
   "source": [
    "daily = pd.concat([train_daily, test_daily])\n",
    "weekly = pd.concat([train_weekly, test_weekly])\n",
    "monthly = pd.concat([train_monthly, test_monthly])"
   ]
  },
  {
   "cell_type": "code",
   "execution_count": 9,
   "id": "identical-recall",
   "metadata": {},
   "outputs": [],
   "source": [
    "# return normalized dataset and stats to unnormalize\n",
    "def in_group_norm(df):\n",
    "    stats = pd.DataFrame()\n",
    "    stats['series_id'] = df.series_id.unique().tolist()\n",
    "    stats['mean'] = df.groupby('series_id').mean().value.tolist()\n",
    "    stats['std'] = df.groupby('series_id').std().value.tolist()\n",
    "    df.value = df.groupby('series_id').transform(lambda x: (x - x.mean()) / x.std()).value\n",
    "    return df, stats"
   ]
  },
  {
   "cell_type": "code",
   "execution_count": 10,
   "id": "hawaiian-evans",
   "metadata": {},
   "outputs": [],
   "source": [
    "daily, daily_stats = in_group_norm(daily)\n",
    "weekly, weekly_stats = in_group_norm(weekly)\n",
    "monthly, monthly_stats = in_group_norm(monthly)"
   ]
  },
  {
   "cell_type": "code",
   "execution_count": 11,
   "id": "killing-training",
   "metadata": {},
   "outputs": [],
   "source": [
    "train_daily, train_daily_stats = in_group_norm(train_daily)\n",
    "train_weekly, train_weekly_stats = in_group_norm(train_weekly)\n",
    "train_monthly, train_monthly_stats = in_group_norm(train_monthly)"
   ]
  },
  {
   "cell_type": "code",
   "execution_count": 12,
   "id": "accredited-campus",
   "metadata": {},
   "outputs": [],
   "source": [
    "# normalize the data\n",
    "train_daily, train_daily_stats = in_group_norm(train_daily)\n",
    "train_weekly, train_weekly_stats = in_group_norm(train_weekly)\n",
    "train_monthly, train_monthly_stats = in_group_norm(train_monthly)\n",
    "\n",
    "test_daily, test_daily_stats = in_group_norm(test_daily)\n",
    "test_weekly, test_weekly_stats = in_group_norm(test_weekly)\n",
    "test_monthly, test_monthly_stats = in_group_norm(test_monthly)"
   ]
  },
  {
   "cell_type": "code",
   "execution_count": 13,
   "id": "developmental-medicine",
   "metadata": {},
   "outputs": [],
   "source": [
    "# concat back to train and test set\n",
    "train_cleaned = pd.concat([train_daily, train_weekly, train_monthly])\n",
    "test_cleaned = pd.concat([test_daily, test_weekly, test_monthly])\n",
    "\n",
    "train_cleaned.to_csv('datasets/train_cleaned.csv')\n",
    "test_cleaned.to_csv('datasets/test_cleaned.csv')"
   ]
  },
  {
   "cell_type": "code",
   "execution_count": 14,
   "id": "super-issue",
   "metadata": {},
   "outputs": [],
   "source": [
    "pd.concat([daily, weekly, monthly]).to_csv('datasets/viz_eda.csv')"
   ]
  },
  {
   "cell_type": "code",
   "execution_count": 16,
   "id": "intense-psychology",
   "metadata": {},
   "outputs": [
    {
     "data": {
      "text/html": [
       "<div>\n",
       "<style scoped>\n",
       "    .dataframe tbody tr th:only-of-type {\n",
       "        vertical-align: middle;\n",
       "    }\n",
       "\n",
       "    .dataframe tbody tr th {\n",
       "        vertical-align: top;\n",
       "    }\n",
       "\n",
       "    .dataframe thead th {\n",
       "        text-align: right;\n",
       "    }\n",
       "</style>\n",
       "<table border=\"1\" class=\"dataframe\">\n",
       "  <thead>\n",
       "    <tr style=\"text-align: right;\">\n",
       "      <th></th>\n",
       "      <th>series_id</th>\n",
       "      <th>value</th>\n",
       "    </tr>\n",
       "    <tr>\n",
       "      <th>date</th>\n",
       "      <th></th>\n",
       "      <th></th>\n",
       "    </tr>\n",
       "  </thead>\n",
       "  <tbody>\n",
       "    <tr>\n",
       "      <th>2000-01-03</th>\n",
       "      <td>AAA10Y</td>\n",
       "      <td>-0.925802</td>\n",
       "    </tr>\n",
       "    <tr>\n",
       "      <th>2000-01-04</th>\n",
       "      <td>AAA10Y</td>\n",
       "      <td>-0.856570</td>\n",
       "    </tr>\n",
       "    <tr>\n",
       "      <th>2000-01-05</th>\n",
       "      <td>AAA10Y</td>\n",
       "      <td>-0.948880</td>\n",
       "    </tr>\n",
       "    <tr>\n",
       "      <th>2000-01-06</th>\n",
       "      <td>AAA10Y</td>\n",
       "      <td>-0.971957</td>\n",
       "    </tr>\n",
       "    <tr>\n",
       "      <th>2000-01-07</th>\n",
       "      <td>AAA10Y</td>\n",
       "      <td>-0.925802</td>\n",
       "    </tr>\n",
       "    <tr>\n",
       "      <th>...</th>\n",
       "      <td>...</td>\n",
       "      <td>...</td>\n",
       "    </tr>\n",
       "    <tr>\n",
       "      <th>2020-06-08</th>\n",
       "      <td>WLEMUINDXD</td>\n",
       "      <td>1.565988</td>\n",
       "    </tr>\n",
       "    <tr>\n",
       "      <th>2020-06-09</th>\n",
       "      <td>WLEMUINDXD</td>\n",
       "      <td>1.171551</td>\n",
       "    </tr>\n",
       "    <tr>\n",
       "      <th>2020-06-10</th>\n",
       "      <td>WLEMUINDXD</td>\n",
       "      <td>0.366100</td>\n",
       "    </tr>\n",
       "    <tr>\n",
       "      <th>2020-06-11</th>\n",
       "      <td>WLEMUINDXD</td>\n",
       "      <td>2.303463</td>\n",
       "    </tr>\n",
       "    <tr>\n",
       "      <th>2020-06-12</th>\n",
       "      <td>WLEMUINDXD</td>\n",
       "      <td>1.861077</td>\n",
       "    </tr>\n",
       "  </tbody>\n",
       "</table>\n",
       "<p>105304 rows × 2 columns</p>\n",
       "</div>"
      ],
      "text/plain": [
       "             series_id     value\n",
       "date                            \n",
       "2000-01-03      AAA10Y -0.925802\n",
       "2000-01-04      AAA10Y -0.856570\n",
       "2000-01-05      AAA10Y -0.948880\n",
       "2000-01-06      AAA10Y -0.971957\n",
       "2000-01-07      AAA10Y -0.925802\n",
       "...                ...       ...\n",
       "2020-06-08  WLEMUINDXD  1.565988\n",
       "2020-06-09  WLEMUINDXD  1.171551\n",
       "2020-06-10  WLEMUINDXD  0.366100\n",
       "2020-06-11  WLEMUINDXD  2.303463\n",
       "2020-06-12  WLEMUINDXD  1.861077\n",
       "\n",
       "[105304 rows x 2 columns]"
      ]
     },
     "execution_count": 16,
     "metadata": {},
     "output_type": "execute_result"
    }
   ],
   "source": [
    "daily"
   ]
  },
  {
   "cell_type": "code",
   "execution_count": 17,
   "id": "gorgeous-rendering",
   "metadata": {},
   "outputs": [],
   "source": [
    "df1 = pd.read_csv('datasets/train_cleaned.csv')\n",
    "df2 = pd.read_csv('datasets/test_cleaned.csv')\n",
    "df = pd.concat([df1, df2])\n",
    "df.to_csv('all.csv')"
   ]
  },
  {
   "cell_type": "code",
   "execution_count": 18,
   "id": "chemical-chemistry",
   "metadata": {},
   "outputs": [
    {
     "data": {
      "text/html": [
       "<div>\n",
       "<style scoped>\n",
       "    .dataframe tbody tr th:only-of-type {\n",
       "        vertical-align: middle;\n",
       "    }\n",
       "\n",
       "    .dataframe tbody tr th {\n",
       "        vertical-align: top;\n",
       "    }\n",
       "\n",
       "    .dataframe thead th {\n",
       "        text-align: right;\n",
       "    }\n",
       "</style>\n",
       "<table border=\"1\" class=\"dataframe\">\n",
       "  <thead>\n",
       "    <tr style=\"text-align: right;\">\n",
       "      <th></th>\n",
       "      <th>date</th>\n",
       "      <th>series_id</th>\n",
       "      <th>value</th>\n",
       "    </tr>\n",
       "  </thead>\n",
       "  <tbody>\n",
       "    <tr>\n",
       "      <th>0</th>\n",
       "      <td>2000-01-03</td>\n",
       "      <td>AAA10Y</td>\n",
       "      <td>-1.036107</td>\n",
       "    </tr>\n",
       "    <tr>\n",
       "      <th>1</th>\n",
       "      <td>2000-01-04</td>\n",
       "      <td>AAA10Y</td>\n",
       "      <td>-0.967114</td>\n",
       "    </tr>\n",
       "    <tr>\n",
       "      <th>2</th>\n",
       "      <td>2000-01-05</td>\n",
       "      <td>AAA10Y</td>\n",
       "      <td>-1.059104</td>\n",
       "    </tr>\n",
       "    <tr>\n",
       "      <th>3</th>\n",
       "      <td>2000-01-06</td>\n",
       "      <td>AAA10Y</td>\n",
       "      <td>-1.082102</td>\n",
       "    </tr>\n",
       "    <tr>\n",
       "      <th>4</th>\n",
       "      <td>2000-01-07</td>\n",
       "      <td>AAA10Y</td>\n",
       "      <td>-1.036107</td>\n",
       "    </tr>\n",
       "    <tr>\n",
       "      <th>...</th>\n",
       "      <td>...</td>\n",
       "      <td>...</td>\n",
       "      <td>...</td>\n",
       "    </tr>\n",
       "    <tr>\n",
       "      <th>22877</th>\n",
       "      <td>2019-12-01</td>\n",
       "      <td>UNRATE</td>\n",
       "      <td>-0.320679</td>\n",
       "    </tr>\n",
       "    <tr>\n",
       "      <th>22878</th>\n",
       "      <td>2020-01-01</td>\n",
       "      <td>UNRATE</td>\n",
       "      <td>-0.273366</td>\n",
       "    </tr>\n",
       "    <tr>\n",
       "      <th>22879</th>\n",
       "      <td>2020-02-01</td>\n",
       "      <td>UNRATE</td>\n",
       "      <td>-0.320679</td>\n",
       "    </tr>\n",
       "    <tr>\n",
       "      <th>22880</th>\n",
       "      <td>2020-03-01</td>\n",
       "      <td>UNRATE</td>\n",
       "      <td>0.105141</td>\n",
       "    </tr>\n",
       "    <tr>\n",
       "      <th>22881</th>\n",
       "      <td>2020-04-01</td>\n",
       "      <td>UNRATE</td>\n",
       "      <td>4.978411</td>\n",
       "    </tr>\n",
       "  </tbody>\n",
       "</table>\n",
       "<p>120499 rows × 3 columns</p>\n",
       "</div>"
      ],
      "text/plain": [
       "             date series_id     value\n",
       "0      2000-01-03    AAA10Y -1.036107\n",
       "1      2000-01-04    AAA10Y -0.967114\n",
       "2      2000-01-05    AAA10Y -1.059104\n",
       "3      2000-01-06    AAA10Y -1.082102\n",
       "4      2000-01-07    AAA10Y -1.036107\n",
       "...           ...       ...       ...\n",
       "22877  2019-12-01    UNRATE -0.320679\n",
       "22878  2020-01-01    UNRATE -0.273366\n",
       "22879  2020-02-01    UNRATE -0.320679\n",
       "22880  2020-03-01    UNRATE  0.105141\n",
       "22881  2020-04-01    UNRATE  4.978411\n",
       "\n",
       "[120499 rows x 3 columns]"
      ]
     },
     "execution_count": 18,
     "metadata": {},
     "output_type": "execute_result"
    }
   ],
   "source": [
    "df"
   ]
  },
  {
   "cell_type": "code",
   "execution_count": 6,
   "id": "pregnant-granny",
   "metadata": {},
   "outputs": [
    {
     "data": {
      "text/plain": [
       "<AxesSubplot:xlabel='series_id', ylabel='value'>"
      ]
     },
     "execution_count": 6,
     "metadata": {},
     "output_type": "execute_result"
    },
    {
     "data": {
      "image/png": "[encoded data removed]",
      "text/plain": [
       "<Figure size 432x288 with 1 Axes>"
      ]
     },
     "metadata": {
      "needs_background": "light"
     },
     "output_type": "display_data"
    }
   ],
   "source": [
    "sns.boxplot(x=\"series_id\", y=\"value\", data=df)"
   ]
  },
  {
   "cell_type": "code",
   "execution_count": null,
   "id": "vital-marsh",
   "metadata": {},
   "outputs": [],
   "source": []
  }
 ],
 "metadata": {
  "kernelspec": {
   "display_name": "Python 3",
   "language": "python",
   "name": "python3"
  },
  "language_info": {
   "codemirror_mode": {
    "name": "ipython",
    "version": 3
   },
   "file_extension": ".py",
   "mimetype": "text/x-python",
   "name": "python",
   "nbconvert_exporter": "python",
   "pygments_lexer": "ipython3",
   "version": "3.8.5"
  }
 },
 "nbformat": 4,
 "nbformat_minor": 5
}
