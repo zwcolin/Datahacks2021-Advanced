{
 "cells": [
  {
   "cell_type": "code",
   "execution_count": 1,
   "id": "median-hayes",
   "metadata": {},
   "outputs": [],
   "source": [
    "import numpy as np\n",
    "import pandas as pd\n",
    "import altair as alt\n",
    "import matplotlib.pyplot as plt"
   ]
  },
  {
   "cell_type": "code",
   "execution_count": 2,
   "id": "extensive-emergency",
   "metadata": {},
   "outputs": [],
   "source": [
    "series = pd.read_csv('datasets/series.csv', encoding= 'unicode_escape')\n",
    "train = pd.read_csv('datasets/observations_train.csv')\n",
    "test = pd.read_csv('datasets/observations_test.csv')"
   ]
  },
  {
   "cell_type": "code",
   "execution_count": 13,
   "id": "successful-future",
   "metadata": {},
   "outputs": [],
   "source": [
    "train_std = train.copy()\n",
    "train_std.value = train.groupby('series_id').transform(lambda x: (x - x.mean()) / x.std()).value"
   ]
  },
  {
   "cell_type": "code",
   "execution_count": 16,
   "id": "ordinary-tolerance",
   "metadata": {},
   "outputs": [],
   "source": [
    "train_std.to_csv('datasets/train_std.csv')"
   ]
  },
  {
   "cell_type": "code",
   "execution_count": 5,
   "id": "figured-insert",
   "metadata": {},
   "outputs": [
    {
     "data": {
      "text/html": [
       "<div>\n",
       "<style scoped>\n",
       "    .dataframe tbody tr th:only-of-type {\n",
       "        vertical-align: middle;\n",
       "    }\n",
       "\n",
       "    .dataframe tbody tr th {\n",
       "        vertical-align: top;\n",
       "    }\n",
       "\n",
       "    .dataframe thead th {\n",
       "        text-align: right;\n",
       "    }\n",
       "</style>\n",
       "<table border=\"1\" class=\"dataframe\">\n",
       "  <thead>\n",
       "    <tr style=\"text-align: right;\">\n",
       "      <th></th>\n",
       "      <th>series_id</th>\n",
       "      <th>date</th>\n",
       "    </tr>\n",
       "  </thead>\n",
       "  <tbody>\n",
       "    <tr>\n",
       "      <th>0</th>\n",
       "      <td>AAA10Y</td>\n",
       "      <td>01-02-2018 00:00</td>\n",
       "    </tr>\n",
       "    <tr>\n",
       "      <th>1</th>\n",
       "      <td>AAA10Y</td>\n",
       "      <td>01-03-2018 00:00</td>\n",
       "    </tr>\n",
       "    <tr>\n",
       "      <th>2</th>\n",
       "      <td>AAA10Y</td>\n",
       "      <td>01-04-2018 00:00</td>\n",
       "    </tr>\n",
       "    <tr>\n",
       "      <th>3</th>\n",
       "      <td>AAA10Y</td>\n",
       "      <td>01-05-2018 00:00</td>\n",
       "    </tr>\n",
       "    <tr>\n",
       "      <th>4</th>\n",
       "      <td>AAA10Y</td>\n",
       "      <td>01-08-2018 00:00</td>\n",
       "    </tr>\n",
       "    <tr>\n",
       "      <th>...</th>\n",
       "      <td>...</td>\n",
       "      <td>...</td>\n",
       "    </tr>\n",
       "    <tr>\n",
       "      <th>24037</th>\n",
       "      <td>WLEMUINDXD</td>\n",
       "      <td>06-10-2020 00:00</td>\n",
       "    </tr>\n",
       "    <tr>\n",
       "      <th>24038</th>\n",
       "      <td>WLEMUINDXD</td>\n",
       "      <td>06-11-2020 00:00</td>\n",
       "    </tr>\n",
       "    <tr>\n",
       "      <th>24039</th>\n",
       "      <td>WLEMUINDXD</td>\n",
       "      <td>06-12-2020 00:00</td>\n",
       "    </tr>\n",
       "    <tr>\n",
       "      <th>24040</th>\n",
       "      <td>WLEMUINDXD</td>\n",
       "      <td>06-13-20 00:00:00</td>\n",
       "    </tr>\n",
       "    <tr>\n",
       "      <th>24041</th>\n",
       "      <td>WLEMUINDXD</td>\n",
       "      <td>06-14-20 00:00:00</td>\n",
       "    </tr>\n",
       "  </tbody>\n",
       "</table>\n",
       "<p>24042 rows × 2 columns</p>\n",
       "</div>"
      ],
      "text/plain": [
       "        series_id               date\n",
       "0          AAA10Y   01-02-2018 00:00\n",
       "1          AAA10Y   01-03-2018 00:00\n",
       "2          AAA10Y   01-04-2018 00:00\n",
       "3          AAA10Y   01-05-2018 00:00\n",
       "4          AAA10Y   01-08-2018 00:00\n",
       "...           ...                ...\n",
       "24037  WLEMUINDXD   06-10-2020 00:00\n",
       "24038  WLEMUINDXD   06-11-2020 00:00\n",
       "24039  WLEMUINDXD   06-12-2020 00:00\n",
       "24040  WLEMUINDXD  06-13-20 00:00:00\n",
       "24041  WLEMUINDXD  06-14-20 00:00:00\n",
       "\n",
       "[24042 rows x 2 columns]"
      ]
     },
     "execution_count": 5,
     "metadata": {},
     "output_type": "execute_result"
    }
   ],
   "source": [
    "test"
   ]
  },
  {
   "cell_type": "code",
   "execution_count": 6,
   "id": "organized-plant",
   "metadata": {},
   "outputs": [
    {
     "data": {
      "text/plain": [
       "array(['AAA10Y', 'ASEANTOT', 'BAA10Y', 'BUSAPPWNSAUS', 'BUSAPPWNSAUSYY',\n",
       "       'CBUSAPPWNSAUS', 'CBUSAPPWNSAUSYY', 'CUUR0000SA0R', 'DEXCHUS',\n",
       "       'DEXJPUS', 'DEXUSEU', 'DEXUSUK', 'DFII10', 'DFII20', 'DFII30',\n",
       "       'DFII5', 'DFII7', 'DLTIIT', 'DPCREDIT', 'DPRIME', 'EECTOT', 'EFFR',\n",
       "       'EFFRVOL', 'FRGSHPUSM649NCIS', 'GVIPT50002S', 'GVIPT50030S',\n",
       "       'GVIPT51000S', 'GVIPT51100S', 'GVIPT51110S', 'GVIPT51120S',\n",
       "       'GVIPT51200S', 'GVIPT52000S', 'GVIPT52100S', 'GVIPT521A3S',\n",
       "       'GVIPT52300S', 'GVIPT54000S', 'GVIPT54100S', 'GVIPT54200S',\n",
       "       'GVIPT54220S', 'INFECTDISEMVTRACKD', 'IOER', 'IORR',\n",
       "       'MEDCPIM158SFRBCLE', 'MORTGAGE15US', 'MORTGAGE30US', 'OBFR',\n",
       "       'OBFRVOL', 'PCUADLVWRADLVWR', 'PCUAINFOAINFO', 'PCUAMUMAMUM',\n",
       "       'PCUARETTRARETTR', 'PCUASHCASHC', 'PCUASTDSVASTDSV',\n",
       "       'PCUATRADEATRADE', 'PCUATRANSATRANS', 'PCUATRNWRATRNWR',\n",
       "       'PCUATTDSVATTDSV', 'PCUAWHLTRAWHLTR', 'PCUOMFGOMFG', 'PCUOMINOMIN',\n",
       "       'SFTPAGRM158SFRBSF', 'SOFR', 'SOFRVOL', 'SP500', 'T10YIE',\n",
       "       'TEDRATE', 'TLAACBW027NBOG', 'TLBACBW027NBOG', 'TSIFRGHT',\n",
       "       'UNRATE', 'WLEMUINDXD'], dtype=object)"
      ]
     },
     "execution_count": 6,
     "metadata": {},
     "output_type": "execute_result"
    }
   ],
   "source": [
    "series.series_id.unique()"
   ]
  },
  {
   "cell_type": "code",
   "execution_count": null,
   "id": "developmental-medicine",
   "metadata": {},
   "outputs": [],
   "source": []
  }
 ],
 "metadata": {
  "kernelspec": {
   "display_name": "Python 3",
   "language": "python",
   "name": "python3"
  },
  "language_info": {
   "codemirror_mode": {
    "name": "ipython",
    "version": 3
   },
   "file_extension": ".py",
   "mimetype": "text/x-python",
   "name": "python",
   "nbconvert_exporter": "python",
   "pygments_lexer": "ipython3",
   "version": "3.7.3"
  }
 },
 "nbformat": 4,
 "nbformat_minor": 5
}
