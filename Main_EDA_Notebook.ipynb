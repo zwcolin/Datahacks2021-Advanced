{
 "cells": [
  {
   "cell_type": "code",
   "execution_count": 1,
   "id": "varied-schedule",
   "metadata": {},
   "outputs": [],
   "source": [
    "import numpy as np\n",
    "import pandas as pd"
   ]
  },
  {
   "cell_type": "code",
   "execution_count": 6,
   "id": "precise-murray",
   "metadata": {},
   "outputs": [],
   "source": [
    "series = pd.read_csv('datasets/series.csv', encoding= 'unicode_escape')\n",
    "train = pd.read_csv('datasets/observations_train.csv')"
   ]
  },
  {
   "cell_type": "code",
   "execution_count": 7,
   "id": "organic-midwest",
   "metadata": {},
   "outputs": [
    {
     "data": {
      "text/html": [
       "<div>\n",
       "<style scoped>\n",
       "    .dataframe tbody tr th:only-of-type {\n",
       "        vertical-align: middle;\n",
       "    }\n",
       "\n",
       "    .dataframe tbody tr th {\n",
       "        vertical-align: top;\n",
       "    }\n",
       "\n",
       "    .dataframe thead th {\n",
       "        text-align: right;\n",
       "    }\n",
       "</style>\n",
       "<table border=\"1\" class=\"dataframe\">\n",
       "  <thead>\n",
       "    <tr style=\"text-align: right;\">\n",
       "      <th></th>\n",
       "      <th>series_id</th>\n",
       "      <th>date</th>\n",
       "      <th>value</th>\n",
       "    </tr>\n",
       "  </thead>\n",
       "  <tbody>\n",
       "    <tr>\n",
       "      <th>0</th>\n",
       "      <td>AAA10Y</td>\n",
       "      <td>01-03-2000 00:00</td>\n",
       "      <td>1.17</td>\n",
       "    </tr>\n",
       "    <tr>\n",
       "      <th>1</th>\n",
       "      <td>AAA10Y</td>\n",
       "      <td>01-04-2000 00:00</td>\n",
       "      <td>1.20</td>\n",
       "    </tr>\n",
       "    <tr>\n",
       "      <th>2</th>\n",
       "      <td>AAA10Y</td>\n",
       "      <td>01-05-2000 00:00</td>\n",
       "      <td>1.16</td>\n",
       "    </tr>\n",
       "    <tr>\n",
       "      <th>3</th>\n",
       "      <td>AAA10Y</td>\n",
       "      <td>01-06-2000 00:00</td>\n",
       "      <td>1.15</td>\n",
       "    </tr>\n",
       "    <tr>\n",
       "      <th>4</th>\n",
       "      <td>AAA10Y</td>\n",
       "      <td>01-07-2000 00:00</td>\n",
       "      <td>1.17</td>\n",
       "    </tr>\n",
       "    <tr>\n",
       "      <th>...</th>\n",
       "      <td>...</td>\n",
       "      <td>...</td>\n",
       "      <td>...</td>\n",
       "    </tr>\n",
       "    <tr>\n",
       "      <th>103299</th>\n",
       "      <td>WLEMUINDXD</td>\n",
       "      <td>12-27-2017 00:00:00</td>\n",
       "      <td>13.95</td>\n",
       "    </tr>\n",
       "    <tr>\n",
       "      <th>103300</th>\n",
       "      <td>WLEMUINDXD</td>\n",
       "      <td>12-28-2017 00:00:00</td>\n",
       "      <td>12.77</td>\n",
       "    </tr>\n",
       "    <tr>\n",
       "      <th>103301</th>\n",
       "      <td>WLEMUINDXD</td>\n",
       "      <td>12-29-2017 00:00:00</td>\n",
       "      <td>23.07</td>\n",
       "    </tr>\n",
       "    <tr>\n",
       "      <th>103302</th>\n",
       "      <td>WLEMUINDXD</td>\n",
       "      <td>12-30-2017 00:00:00</td>\n",
       "      <td>47.60</td>\n",
       "    </tr>\n",
       "    <tr>\n",
       "      <th>103303</th>\n",
       "      <td>WLEMUINDXD</td>\n",
       "      <td>12-31-2017 00:00:00</td>\n",
       "      <td>89.84</td>\n",
       "    </tr>\n",
       "  </tbody>\n",
       "</table>\n",
       "<p>103304 rows × 3 columns</p>\n",
       "</div>"
      ],
      "text/plain": [
       "         series_id                 date  value\n",
       "0           AAA10Y     01-03-2000 00:00   1.17\n",
       "1           AAA10Y     01-04-2000 00:00   1.20\n",
       "2           AAA10Y     01-05-2000 00:00   1.16\n",
       "3           AAA10Y     01-06-2000 00:00   1.15\n",
       "4           AAA10Y     01-07-2000 00:00   1.17\n",
       "...            ...                  ...    ...\n",
       "103299  WLEMUINDXD  12-27-2017 00:00:00  13.95\n",
       "103300  WLEMUINDXD  12-28-2017 00:00:00  12.77\n",
       "103301  WLEMUINDXD  12-29-2017 00:00:00  23.07\n",
       "103302  WLEMUINDXD  12-30-2017 00:00:00  47.60\n",
       "103303  WLEMUINDXD  12-31-2017 00:00:00  89.84\n",
       "\n",
       "[103304 rows x 3 columns]"
      ]
     },
     "execution_count": 7,
     "metadata": {},
     "output_type": "execute_result"
    }
   ],
   "source": [
    "train"
   ]
  }
 ],
 "metadata": {
  "kernelspec": {
   "display_name": "Python 3",
   "language": "python",
   "name": "python3"
  },
  "language_info": {
   "codemirror_mode": {
    "name": "ipython",
    "version": 3
   },
   "file_extension": ".py",
   "mimetype": "text/x-python",
   "name": "python",
   "nbconvert_exporter": "python",
   "pygments_lexer": "ipython3",
   "version": "3.8.5"
  }
 },
 "nbformat": 4,
 "nbformat_minor": 5
}
